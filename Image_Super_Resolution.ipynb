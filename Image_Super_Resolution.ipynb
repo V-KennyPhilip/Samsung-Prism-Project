{
  "nbformat": 4,
  "nbformat_minor": 0,
  "metadata": {
    "colab": {
      "provenance": [],
      "gpuType": "T4",
      "include_colab_link": true
    },
    "kernelspec": {
      "name": "python3",
      "display_name": "Python 3"
    },
    "language_info": {
      "name": "python"
    },
    "accelerator": "GPU"
  },
  "cells": [
    {
      "cell_type": "markdown",
      "metadata": {
        "id": "view-in-github",
        "colab_type": "text"
      },
      "source": [
        "<a href=\"https://colab.research.google.com/github/V-KennyPhilip/Samsung-Prism-Project/blob/main/Image_Super_Resolution.ipynb\" target=\"_parent\"><img src=\"https://colab.research.google.com/assets/colab-badge.svg\" alt=\"Open In Colab\"/></a>"
      ]
    },
    {
      "cell_type": "code",
      "execution_count": 1,
      "metadata": {
        "colab": {
          "base_uri": "https://localhost:8080/"
        },
        "id": "CywfnKmqkWoR",
        "outputId": "698a5ef3-ff81-487c-de65-0a5ff3c33da4"
      },
      "outputs": [
        {
          "output_type": "stream",
          "name": "stdout",
          "text": [
            "Mounted at /content/drive\n"
          ]
        }
      ],
      "source": [
        "from google.colab import drive\n",
        "drive.mount('/content/drive')"
      ]
    },
    {
      "cell_type": "code",
      "source": [
        "!python create_data_lists.py"
      ],
      "metadata": {
        "id": "md0bKiK3lSMQ",
        "colab": {
          "base_uri": "https://localhost:8080/"
        },
        "outputId": "08dfc584-d06d-42a3-e940-22950e1212eb"
      },
      "execution_count": 2,
      "outputs": [
        {
          "output_type": "stream",
          "name": "stdout",
          "text": [
            "\n",
            "Creating data lists... this may take some time.\n",
            "\n",
            "There are 750 images in the training data.\n",
            "\n",
            "There are 11 images in the test test data.\n",
            "\n",
            "JSONS containing lists of Train and Test images have been saved to /content/drive/MyDrive/SRDATA/srgan_output/\n",
            "\n"
          ]
        }
      ]
    },
    {
      "cell_type": "code",
      "source": [
        "!python train_srresnet.py"
      ],
      "metadata": {
        "id": "UlPSzlTERoiM",
        "colab": {
          "base_uri": "https://localhost:8080/"
        },
        "outputId": "a6e4b621-31f3-4677-e663-22790d04d8ea"
      },
      "execution_count": 4,
      "outputs": [
        {
          "output_type": "stream",
          "name": "stdout",
          "text": [
            "/usr/local/lib/python3.10/dist-packages/torch/utils/data/dataloader.py:557: UserWarning: This DataLoader will create 4 worker processes in total. Our suggested max number of worker in current system is 2, which is smaller than what this DataLoader is going to create. Please be aware that excessive worker creation might get DataLoader running slow or even freeze, lower the worker number to avoid potential slowness/freeze if necessary.\n",
            "  warnings.warn(_create_warning_msg(\n",
            "Epoch: [0][0/188]----Batch Time 5.531 (5.531)----Data Time 1.748 (1.748)----Loss 0.2738 (0.2738)\n",
            "Epoch: [1][0/188]----Batch Time 1.453 (1.453)----Data Time 1.336 (1.336)----Loss 0.0147 (0.0147)\n",
            "Epoch: [2][0/188]----Batch Time 2.493 (2.493)----Data Time 2.391 (2.391)----Loss 0.0203 (0.0203)\n",
            "Epoch: [3][0/188]----Batch Time 1.425 (1.425)----Data Time 1.338 (1.338)----Loss 0.0192 (0.0192)\n",
            "Epoch: [4][0/188]----Batch Time 2.826 (2.826)----Data Time 2.712 (2.712)----Loss 0.0381 (0.0381)\n",
            "Epoch: [5][0/188]----Batch Time 1.321 (1.321)----Data Time 1.233 (1.233)----Loss 0.0070 (0.0070)\n",
            "Epoch: [6][0/188]----Batch Time 1.453 (1.453)----Data Time 1.366 (1.366)----Loss 0.0090 (0.0090)\n",
            "Epoch: [7][0/188]----Batch Time 1.784 (1.784)----Data Time 1.702 (1.702)----Loss 0.0306 (0.0306)\n",
            "Epoch: [8][0/188]----Batch Time 1.509 (1.509)----Data Time 1.427 (1.427)----Loss 0.0250 (0.0250)\n",
            "Epoch: [9][0/188]----Batch Time 1.444 (1.444)----Data Time 1.355 (1.355)----Loss 0.0062 (0.0062)\n",
            "Epoch: [10][0/188]----Batch Time 1.304 (1.304)----Data Time 1.226 (1.226)----Loss 0.0132 (0.0132)\n",
            "Epoch: [11][0/188]----Batch Time 1.948 (1.948)----Data Time 1.855 (1.855)----Loss 0.0150 (0.0150)\n",
            "Epoch: [12][0/188]----Batch Time 1.507 (1.507)----Data Time 1.413 (1.413)----Loss 0.0251 (0.0251)\n",
            "Epoch: [13][0/188]----Batch Time 2.290 (2.290)----Data Time 2.121 (2.121)----Loss 0.0104 (0.0104)\n",
            "Epoch: [14][0/188]----Batch Time 1.765 (1.765)----Data Time 1.665 (1.665)----Loss 0.0081 (0.0081)\n",
            "Epoch: [15][0/188]----Batch Time 2.144 (2.144)----Data Time 2.044 (2.044)----Loss 0.0157 (0.0157)\n",
            "Epoch: [16][0/188]----Batch Time 1.569 (1.569)----Data Time 1.491 (1.491)----Loss 0.0081 (0.0081)\n",
            "Epoch: [17][0/188]----Batch Time 1.864 (1.864)----Data Time 1.774 (1.774)----Loss 0.0183 (0.0183)\n",
            "Epoch: [18][0/188]----Batch Time 1.507 (1.507)----Data Time 1.413 (1.413)----Loss 0.0284 (0.0284)\n",
            "Epoch: [19][0/188]----Batch Time 2.289 (2.289)----Data Time 2.230 (2.230)----Loss 0.0106 (0.0106)\n",
            "Epoch: [20][0/188]----Batch Time 1.386 (1.386)----Data Time 1.304 (1.304)----Loss 0.0077 (0.0077)\n",
            "Epoch: [21][0/188]----Batch Time 1.451 (1.451)----Data Time 1.362 (1.362)----Loss 0.0217 (0.0217)\n",
            "Epoch: [22][0/188]----Batch Time 1.336 (1.336)----Data Time 1.257 (1.257)----Loss 0.0208 (0.0208)\n",
            "Epoch: [23][0/188]----Batch Time 1.580 (1.580)----Data Time 1.499 (1.499)----Loss 0.0125 (0.0125)\n",
            "Epoch: [24][0/188]----Batch Time 1.441 (1.441)----Data Time 1.358 (1.358)----Loss 0.0169 (0.0169)\n",
            "Epoch: [25][0/188]----Batch Time 1.331 (1.331)----Data Time 1.246 (1.246)----Loss 0.0072 (0.0072)\n",
            "Epoch: [26][0/188]----Batch Time 2.057 (2.057)----Data Time 1.928 (1.928)----Loss 0.0088 (0.0088)\n",
            "Epoch: [27][0/188]----Batch Time 1.539 (1.539)----Data Time 1.456 (1.456)----Loss 0.0095 (0.0095)\n",
            "Epoch: [28][0/188]----Batch Time 1.971 (1.971)----Data Time 1.870 (1.870)----Loss 0.0103 (0.0103)\n",
            "Epoch: [29][0/188]----Batch Time 1.450 (1.450)----Data Time 1.379 (1.379)----Loss 0.0022 (0.0022)\n",
            "Epoch: [30][0/188]----Batch Time 1.426 (1.426)----Data Time 1.349 (1.349)----Loss 0.0078 (0.0078)\n",
            "Epoch: [31][0/188]----Batch Time 1.712 (1.712)----Data Time 1.643 (1.643)----Loss 0.0080 (0.0080)\n",
            "Epoch: [32][0/188]----Batch Time 1.578 (1.578)----Data Time 1.478 (1.478)----Loss 0.0089 (0.0089)\n",
            "Epoch: [33][0/188]----Batch Time 1.565 (1.565)----Data Time 1.463 (1.463)----Loss 0.0184 (0.0184)\n",
            "Epoch: [34][0/188]----Batch Time 1.424 (1.424)----Data Time 1.325 (1.325)----Loss 0.0049 (0.0049)\n",
            "Epoch: [35][0/188]----Batch Time 1.614 (1.614)----Data Time 1.499 (1.499)----Loss 0.0081 (0.0081)\n",
            "Epoch: [36][0/188]----Batch Time 1.618 (1.618)----Data Time 1.554 (1.554)----Loss 0.0063 (0.0063)\n",
            "Epoch: [37][0/188]----Batch Time 2.093 (2.093)----Data Time 1.957 (1.957)----Loss 0.0205 (0.0205)\n",
            "Epoch: [38][0/188]----Batch Time 1.489 (1.489)----Data Time 1.415 (1.415)----Loss 0.0263 (0.0263)\n",
            "Epoch: [39][0/188]----Batch Time 2.555 (2.555)----Data Time 2.488 (2.488)----Loss 0.0063 (0.0063)\n",
            "Epoch: [40][0/188]----Batch Time 1.534 (1.534)----Data Time 1.445 (1.445)----Loss 0.0057 (0.0057)\n",
            "Epoch: [41][0/188]----Batch Time 2.332 (2.332)----Data Time 2.251 (2.251)----Loss 0.0250 (0.0250)\n",
            "Epoch: [42][0/188]----Batch Time 1.659 (1.659)----Data Time 1.582 (1.582)----Loss 0.0157 (0.0157)\n",
            "Epoch: [43][0/188]----Batch Time 1.373 (1.373)----Data Time 1.261 (1.261)----Loss 0.0199 (0.0199)\n",
            "Epoch: [44][0/188]----Batch Time 1.644 (1.644)----Data Time 1.552 (1.552)----Loss 0.0069 (0.0069)\n",
            "Epoch: [45][0/188]----Batch Time 1.567 (1.567)----Data Time 1.455 (1.455)----Loss 0.0123 (0.0123)\n",
            "Epoch: [46][0/188]----Batch Time 1.388 (1.388)----Data Time 1.329 (1.329)----Loss 0.0054 (0.0054)\n",
            "Epoch: [47][0/188]----Batch Time 1.493 (1.493)----Data Time 1.424 (1.424)----Loss 0.0203 (0.0203)\n",
            "Epoch: [48][0/188]----Batch Time 2.424 (2.424)----Data Time 2.296 (2.296)----Loss 0.0183 (0.0183)\n",
            "Epoch: [49][0/188]----Batch Time 1.637 (1.637)----Data Time 1.571 (1.571)----Loss 0.0052 (0.0052)\n",
            "Epoch: [50][0/188]----Batch Time 2.122 (2.122)----Data Time 2.012 (2.012)----Loss 0.0197 (0.0197)\n",
            "Epoch: [51][0/188]----Batch Time 1.381 (1.381)----Data Time 1.317 (1.317)----Loss 0.0106 (0.0106)\n",
            "Epoch: [52][0/188]----Batch Time 1.601 (1.601)----Data Time 1.524 (1.524)----Loss 0.0311 (0.0311)\n",
            "Epoch: [53][0/188]----Batch Time 1.457 (1.457)----Data Time 1.387 (1.387)----Loss 0.0074 (0.0074)\n",
            "Epoch: [54][0/188]----Batch Time 1.397 (1.397)----Data Time 1.323 (1.323)----Loss 0.0078 (0.0078)\n",
            "Epoch: [55][0/188]----Batch Time 1.280 (1.280)----Data Time 1.171 (1.171)----Loss 0.0204 (0.0204)\n",
            "Epoch: [56][0/188]----Batch Time 1.325 (1.325)----Data Time 1.248 (1.248)----Loss 0.0107 (0.0107)\n",
            "Epoch: [57][0/188]----Batch Time 1.642 (1.642)----Data Time 1.509 (1.509)----Loss 0.0137 (0.0137)\n",
            "Epoch: [58][0/188]----Batch Time 1.805 (1.805)----Data Time 1.729 (1.729)----Loss 0.0081 (0.0081)\n",
            "Epoch: [59][0/188]----Batch Time 2.622 (2.622)----Data Time 2.540 (2.540)----Loss 0.0010 (0.0010)\n",
            "Epoch: [60][0/188]----Batch Time 1.583 (1.583)----Data Time 1.501 (1.501)----Loss 0.0264 (0.0264)\n",
            "Epoch: [61][0/188]----Batch Time 1.827 (1.827)----Data Time 1.753 (1.753)----Loss 0.0220 (0.0220)\n",
            "Epoch: [62][0/188]----Batch Time 1.514 (1.514)----Data Time 1.422 (1.422)----Loss 0.0077 (0.0077)\n",
            "Epoch: [63][0/188]----Batch Time 1.388 (1.388)----Data Time 1.306 (1.306)----Loss 0.0112 (0.0112)\n",
            "Epoch: [64][0/188]----Batch Time 1.539 (1.539)----Data Time 1.446 (1.446)----Loss 0.0089 (0.0089)\n",
            "Epoch: [65][0/188]----Batch Time 1.403 (1.403)----Data Time 1.322 (1.322)----Loss 0.0060 (0.0060)\n",
            "Epoch: [66][0/188]----Batch Time 2.077 (2.077)----Data Time 1.953 (1.953)----Loss 0.0179 (0.0179)\n",
            "Epoch: [67][0/188]----Batch Time 1.745 (1.745)----Data Time 1.655 (1.655)----Loss 0.0027 (0.0027)\n",
            "Epoch: [68][0/188]----Batch Time 2.257 (2.257)----Data Time 2.104 (2.104)----Loss 0.0139 (0.0139)\n",
            "Epoch: [69][0/188]----Batch Time 1.647 (1.647)----Data Time 1.559 (1.559)----Loss 0.0079 (0.0079)\n",
            "Epoch: [70][0/188]----Batch Time 2.263 (2.263)----Data Time 2.135 (2.135)----Loss 0.0013 (0.0013)\n",
            "Epoch: [71][0/188]----Batch Time 1.765 (1.765)----Data Time 1.689 (1.689)----Loss 0.0068 (0.0068)\n",
            "Epoch: [72][0/188]----Batch Time 2.468 (2.468)----Data Time 2.330 (2.330)----Loss 0.0137 (0.0137)\n",
            "Epoch: [73][0/188]----Batch Time 1.605 (1.605)----Data Time 1.516 (1.516)----Loss 0.0074 (0.0074)\n",
            "Epoch: [74][0/188]----Batch Time 1.924 (1.924)----Data Time 1.834 (1.834)----Loss 0.0351 (0.0351)\n",
            "Epoch: [75][0/188]----Batch Time 1.450 (1.450)----Data Time 1.363 (1.363)----Loss 0.0076 (0.0076)\n",
            "Epoch: [76][0/188]----Batch Time 1.451 (1.451)----Data Time 1.381 (1.381)----Loss 0.0097 (0.0097)\n",
            "Epoch: [77][0/188]----Batch Time 1.330 (1.330)----Data Time 1.242 (1.242)----Loss 0.0505 (0.0505)\n",
            "Epoch: [78][0/188]----Batch Time 1.286 (1.286)----Data Time 1.205 (1.205)----Loss 0.0698 (0.0698)\n",
            "Epoch: [79][0/188]----Batch Time 1.437 (1.437)----Data Time 1.364 (1.364)----Loss 0.0186 (0.0186)\n",
            "Epoch: [80][0/188]----Batch Time 1.390 (1.390)----Data Time 1.295 (1.295)----Loss 0.0162 (0.0162)\n",
            "Epoch: [81][0/188]----Batch Time 2.059 (2.059)----Data Time 1.906 (1.906)----Loss 0.0044 (0.0044)\n",
            "Epoch: [82][0/188]----Batch Time 1.479 (1.479)----Data Time 1.446 (1.446)----Loss 0.0153 (0.0153)\n",
            "Epoch: [83][0/188]----Batch Time 1.924 (1.924)----Data Time 1.797 (1.797)----Loss 0.0229 (0.0229)\n",
            "Epoch: [84][0/188]----Batch Time 1.657 (1.657)----Data Time 1.578 (1.578)----Loss 0.0140 (0.0140)\n",
            "Epoch: [85][0/188]----Batch Time 2.022 (2.022)----Data Time 1.963 (1.963)----Loss 0.0037 (0.0037)\n",
            "Epoch: [86][0/188]----Batch Time 1.437 (1.437)----Data Time 1.376 (1.376)----Loss 0.0035 (0.0035)\n",
            "Epoch: [87][0/188]----Batch Time 1.545 (1.545)----Data Time 1.472 (1.472)----Loss 0.0111 (0.0111)\n",
            "Epoch: [88][0/188]----Batch Time 1.455 (1.455)----Data Time 1.384 (1.384)----Loss 0.0087 (0.0087)\n",
            "Epoch: [89][0/188]----Batch Time 1.395 (1.395)----Data Time 1.310 (1.310)----Loss 0.0036 (0.0036)\n",
            "Epoch: [90][0/188]----Batch Time 1.593 (1.593)----Data Time 1.510 (1.510)----Loss 0.0054 (0.0054)\n",
            "Epoch: [91][0/188]----Batch Time 1.326 (1.326)----Data Time 1.248 (1.248)----Loss 0.0056 (0.0056)\n",
            "Epoch: [92][0/188]----Batch Time 2.163 (2.163)----Data Time 2.064 (2.064)----Loss 0.0182 (0.0182)\n",
            "Epoch: [93][0/188]----Batch Time 1.786 (1.786)----Data Time 1.732 (1.732)----Loss 0.0154 (0.0154)\n",
            "Epoch: [94][0/188]----Batch Time 2.594 (2.594)----Data Time 2.492 (2.492)----Loss 0.0039 (0.0039)\n",
            "Epoch: [95][0/188]----Batch Time 1.212 (1.212)----Data Time 1.131 (1.131)----Loss 0.0166 (0.0166)\n",
            "Epoch: [96][0/188]----Batch Time 2.426 (2.426)----Data Time 2.240 (2.240)----Loss 0.0086 (0.0086)\n",
            "Epoch: [97][0/188]----Batch Time 1.433 (1.433)----Data Time 1.375 (1.375)----Loss 0.0068 (0.0068)\n",
            "Epoch: [98][0/188]----Batch Time 2.046 (2.046)----Data Time 1.930 (1.930)----Loss 0.0095 (0.0095)\n",
            "Epoch: [99][0/188]----Batch Time 1.436 (1.436)----Data Time 1.344 (1.344)----Loss 0.0096 (0.0096)\n"
          ]
        }
      ]
    },
    {
      "cell_type": "code",
      "source": [
        "!python train_srgan.py"
      ],
      "metadata": {
        "colab": {
          "base_uri": "https://localhost:8080/"
        },
        "id": "KT3KMpnb0rQe",
        "outputId": "cf17d80f-72c4-4037-e276-06e0a17c12bc"
      },
      "execution_count": null,
      "outputs": [
        {
          "output_type": "stream",
          "name": "stdout",
          "text": [
            "/content/models.py:216: FutureWarning: You are using `torch.load` with `weights_only=False` (the current default value), which uses the default pickle module implicitly. It is possible to construct malicious pickle data which will execute arbitrary code during unpickling (See https://github.com/pytorch/pytorch/blob/main/SECURITY.md#untrusted-models for more details). In a future release, the default value for `weights_only` will be flipped to `True`. This limits the functions that could be executed during unpickling. Arbitrary objects will no longer be allowed to be loaded via this mode unless they are explicitly allowlisted by the user via `torch.serialization.add_safe_globals`. We recommend you start setting `weights_only=True` for any use case where you don't have full control of the loaded file. Please open an issue on GitHub for any issues related to this experimental feature.\n",
            "  srresnet = torch.load(srresnet_checkpoint)['model']\n",
            "\n",
            "Loaded weights from pre-trained SRResNet.\n",
            "\n",
            "/usr/local/lib/python3.10/dist-packages/torchvision/models/_utils.py:208: UserWarning: The parameter 'pretrained' is deprecated since 0.13 and may be removed in the future, please use 'weights' instead.\n",
            "  warnings.warn(\n",
            "/usr/local/lib/python3.10/dist-packages/torchvision/models/_utils.py:223: UserWarning: Arguments other than a weight enum or `None` for 'weights' are deprecated since 0.13 and may be removed in the future. The current behavior is equivalent to passing `weights=VGG19_Weights.IMAGENET1K_V1`. You can also use `weights=VGG19_Weights.DEFAULT` to get the most up-to-date weights.\n",
            "  warnings.warn(msg)\n",
            "Downloading: \"https://download.pytorch.org/models/vgg19-dcbb9e9d.pth\" to /root/.cache/torch/hub/checkpoints/vgg19-dcbb9e9d.pth\n",
            "100% 548M/548M [00:08<00:00, 69.9MB/s]\n",
            "/usr/local/lib/python3.10/dist-packages/torch/utils/data/dataloader.py:557: UserWarning: This DataLoader will create 4 worker processes in total. Our suggested max number of worker in current system is 2, which is smaller than what this DataLoader is going to create. Please be aware that excessive worker creation might get DataLoader running slow or even freeze, lower the worker number to avoid potential slowness/freeze if necessary.\n",
            "  warnings.warn(_create_warning_msg(\n",
            "Epoch: [0][0/188]----Batch Time 7.077 (7.077)----Data Time 1.826 (1.826)----Cont. Loss 0.3742 (0.3742)----Adv. Loss 0.7444 (0.7444)----Disc. Loss 1.3893 (1.3893)\n",
            "Epoch: [1][0/188]----Batch Time 2.703 (2.703)----Data Time 2.413 (2.413)----Cont. Loss 1.0148 (1.0148)----Adv. Loss 0.6490 (0.6490)----Disc. Loss 1.1517 (1.1517)\n",
            "Epoch: [2][0/188]----Batch Time 1.937 (1.937)----Data Time 1.620 (1.620)----Cont. Loss 0.1357 (0.1357)----Adv. Loss 1.2834 (1.2834)----Disc. Loss 0.4076 (0.4076)\n",
            "Epoch: [3][0/188]----Batch Time 1.736 (1.736)----Data Time 1.527 (1.527)----Cont. Loss 0.1793 (0.1793)----Adv. Loss 3.3211 (3.3211)----Disc. Loss 0.2584 (0.2584)\n",
            "Epoch: [4][0/188]----Batch Time 1.362 (1.362)----Data Time 1.192 (1.192)----Cont. Loss 0.1887 (0.1887)----Adv. Loss 5.6408 (5.6408)----Disc. Loss 0.1313 (0.1313)\n",
            "Epoch: [5][0/188]----Batch Time 1.809 (1.809)----Data Time 1.616 (1.616)----Cont. Loss 0.3158 (0.3158)----Adv. Loss 4.4426 (4.4426)----Disc. Loss 0.4878 (0.4878)\n",
            "Epoch: [6][0/188]----Batch Time 1.638 (1.638)----Data Time 1.398 (1.398)----Cont. Loss 0.2189 (0.2189)----Adv. Loss 5.0017 (5.0017)----Disc. Loss 0.0365 (0.0365)\n",
            "Epoch: [7][0/188]----Batch Time 1.615 (1.615)----Data Time 1.444 (1.444)----Cont. Loss 0.1286 (0.1286)----Adv. Loss 1.9801 (1.9801)----Disc. Loss 0.2215 (0.2215)\n",
            "Epoch: [8][0/188]----Batch Time 1.396 (1.396)----Data Time 1.225 (1.225)----Cont. Loss 0.2393 (0.2393)----Adv. Loss 8.8844 (8.8844)----Disc. Loss 0.0057 (0.0057)\n",
            "Epoch: [9][0/188]----Batch Time 1.643 (1.643)----Data Time 1.395 (1.395)----Cont. Loss 0.3555 (0.3555)----Adv. Loss 4.1952 (4.1952)----Disc. Loss 0.0203 (0.0203)\n",
            "Epoch: [10][0/188]----Batch Time 2.526 (2.526)----Data Time 2.212 (2.212)----Cont. Loss 0.2484 (0.2484)----Adv. Loss 10.4293 (10.4293)----Disc. Loss 1.4070 (1.4070)\n",
            "Epoch: [11][0/188]----Batch Time 2.303 (2.303)----Data Time 2.029 (2.029)----Cont. Loss 0.6108 (0.6108)----Adv. Loss 0.1821 (0.1821)----Disc. Loss 2.2086 (2.2086)\n",
            "Epoch: [12][0/188]----Batch Time 2.941 (2.941)----Data Time 2.601 (2.601)----Cont. Loss 0.2036 (0.2036)----Adv. Loss 6.7030 (6.7030)----Disc. Loss 0.0034 (0.0034)\n",
            "Epoch: [13][0/188]----Batch Time 2.816 (2.816)----Data Time 2.445 (2.445)----Cont. Loss 0.3571 (0.3571)----Adv. Loss 8.5097 (8.5097)----Disc. Loss 0.0009 (0.0009)\n",
            "\n",
            "DECAYING learning rate.\n",
            "The new learning rate is 0.000010\n",
            "\n",
            "\n",
            "DECAYING learning rate.\n",
            "The new learning rate is 0.000010\n",
            "\n",
            "Epoch: [14][0/188]----Batch Time 1.624 (1.624)----Data Time 1.416 (1.416)----Cont. Loss 0.2967 (0.2967)----Adv. Loss 8.6735 (8.6735)----Disc. Loss 0.0018 (0.0018)\n",
            "Epoch: [15][0/188]----Batch Time 1.545 (1.545)----Data Time 1.378 (1.378)----Cont. Loss 0.2353 (0.2353)----Adv. Loss 6.7551 (6.7551)----Disc. Loss 0.0058 (0.0058)\n",
            "Epoch: [16][0/188]----Batch Time 1.641 (1.641)----Data Time 1.392 (1.392)----Cont. Loss 0.4793 (0.4793)----Adv. Loss 5.5539 (5.5539)----Disc. Loss 0.0119 (0.0119)\n",
            "Epoch: [17][0/188]----Batch Time 1.496 (1.496)----Data Time 1.268 (1.268)----Cont. Loss 0.1916 (0.1916)----Adv. Loss 12.6598 (12.6598)----Disc. Loss 0.0001 (0.0001)\n",
            "Epoch: [18][0/188]----Batch Time 1.762 (1.762)----Data Time 1.505 (1.505)----Cont. Loss 0.2542 (0.2542)----Adv. Loss 6.4943 (6.4943)----Disc. Loss 0.0056 (0.0056)\n",
            "Epoch: [19][0/188]----Batch Time 1.492 (1.492)----Data Time 1.254 (1.254)----Cont. Loss 0.2251 (0.2251)----Adv. Loss 7.2718 (7.2718)----Disc. Loss 0.0012 (0.0012)\n",
            "Epoch: [20][0/188]----Batch Time 1.668 (1.668)----Data Time 1.470 (1.470)----Cont. Loss 0.3015 (0.3015)----Adv. Loss 8.6059 (8.6059)----Disc. Loss 0.0010 (0.0010)\n",
            "Epoch: [21][0/188]----Batch Time 1.476 (1.476)----Data Time 1.274 (1.274)----Cont. Loss 0.2478 (0.2478)----Adv. Loss 4.2569 (4.2569)----Disc. Loss 0.0337 (0.0337)\n",
            "Epoch: [22][0/188]----Batch Time 1.705 (1.705)----Data Time 1.509 (1.509)----Cont. Loss 0.2310 (0.2310)----Adv. Loss 6.0064 (6.0064)----Disc. Loss 0.0036 (0.0036)\n",
            "Epoch: [23][0/188]----Batch Time 2.154 (2.154)----Data Time 1.948 (1.948)----Cont. Loss 0.2239 (0.2239)----Adv. Loss 5.8236 (5.8236)----Disc. Loss 0.0089 (0.0089)\n",
            "Epoch: [24][0/188]----Batch Time 1.450 (1.450)----Data Time 1.265 (1.265)----Cont. Loss 0.4013 (0.4013)----Adv. Loss 3.5924 (3.5924)----Disc. Loss 0.0311 (0.0311)\n",
            "Epoch: [25][0/188]----Batch Time 1.580 (1.580)----Data Time 1.434 (1.434)----Cont. Loss 0.4085 (0.4085)----Adv. Loss 6.7250 (6.7250)----Disc. Loss 0.0027 (0.0027)\n",
            "Epoch: [26][0/188]----Batch Time 1.436 (1.436)----Data Time 1.184 (1.184)----Cont. Loss 0.4374 (0.4374)----Adv. Loss 6.1196 (6.1196)----Disc. Loss 0.0040 (0.0040)\n",
            "Epoch: [27][0/188]----Batch Time 2.509 (2.509)----Data Time 2.337 (2.337)----Cont. Loss 0.2026 (0.2026)----Adv. Loss 8.1600 (8.1600)----Disc. Loss 0.0005 (0.0005)\n",
            "Epoch: [28][0/188]----Batch Time 2.949 (2.949)----Data Time 2.667 (2.667)----Cont. Loss 0.1509 (0.1509)----Adv. Loss 6.5976 (6.5976)----Disc. Loss 0.0023 (0.0023)\n",
            "Epoch: [29][0/188]----Batch Time 2.632 (2.632)----Data Time 2.388 (2.388)----Cont. Loss 0.6990 (0.6990)----Adv. Loss 6.5364 (6.5364)----Disc. Loss 0.0021 (0.0021)\n",
            "Epoch: [30][0/188]----Batch Time 1.914 (1.914)----Data Time 1.694 (1.694)----Cont. Loss 0.1977 (0.1977)----Adv. Loss 6.0831 (6.0831)----Disc. Loss 0.0055 (0.0055)\n",
            "Epoch: [31][0/188]----Batch Time 1.410 (1.410)----Data Time 1.192 (1.192)----Cont. Loss 0.4310 (0.4310)----Adv. Loss 8.0467 (8.0467)----Disc. Loss 0.0018 (0.0018)\n",
            "Epoch: [32][0/188]----Batch Time 1.433 (1.433)----Data Time 1.216 (1.216)----Cont. Loss 0.1319 (0.1319)----Adv. Loss 3.4776 (3.4776)----Disc. Loss 0.0491 (0.0491)\n",
            "Epoch: [33][0/188]----Batch Time 1.676 (1.676)----Data Time 1.451 (1.451)----Cont. Loss 0.5793 (0.5793)----Adv. Loss 10.4598 (10.4598)----Disc. Loss 0.0000 (0.0000)\n",
            "Epoch: [34][0/188]----Batch Time 1.522 (1.522)----Data Time 1.318 (1.318)----Cont. Loss 0.2251 (0.2251)----Adv. Loss 3.5461 (3.5461)----Disc. Loss 0.0525 (0.0525)\n",
            "Epoch: [35][0/188]----Batch Time 1.521 (1.521)----Data Time 1.321 (1.321)----Cont. Loss 0.1184 (0.1184)----Adv. Loss 2.9326 (2.9326)----Disc. Loss 0.3046 (0.3046)\n",
            "Epoch: [36][0/188]----Batch Time 1.550 (1.550)----Data Time 1.326 (1.326)----Cont. Loss 0.0742 (0.0742)----Adv. Loss 0.0134 (0.0134)----Disc. Loss 4.9457 (4.9457)\n",
            "Epoch: [37][0/188]----Batch Time 1.992 (1.992)----Data Time 1.781 (1.781)----Cont. Loss 0.2822 (0.2822)----Adv. Loss 8.1146 (8.1146)----Disc. Loss 0.0005 (0.0005)\n",
            "Epoch: [38][0/188]----Batch Time 2.336 (2.336)----Data Time 2.012 (2.012)----Cont. Loss 0.1533 (0.1533)----Adv. Loss 4.5677 (4.5677)----Disc. Loss 0.0124 (0.0124)\n",
            "Epoch: [39][0/188]----Batch Time 1.981 (1.981)----Data Time 1.656 (1.656)----Cont. Loss 0.3446 (0.3446)----Adv. Loss 4.6304 (4.6304)----Disc. Loss 0.0151 (0.0151)\n",
            "Epoch: [40][0/188]----Batch Time 1.731 (1.731)----Data Time 1.562 (1.562)----Cont. Loss 0.3647 (0.3647)----Adv. Loss 8.1244 (8.1244)----Disc. Loss 0.0009 (0.0009)\n",
            "Epoch: [41][0/188]----Batch Time 1.593 (1.593)----Data Time 1.421 (1.421)----Cont. Loss 0.0831 (0.0831)----Adv. Loss 7.7976 (7.7976)----Disc. Loss 0.8546 (0.8546)\n",
            "Epoch: [42][0/188]----Batch Time 1.502 (1.502)----Data Time 1.304 (1.304)----Cont. Loss 0.2937 (0.2937)----Adv. Loss 9.0957 (9.0957)----Disc. Loss 0.0002 (0.0002)\n",
            "Epoch: [43][0/188]----Batch Time 1.472 (1.472)----Data Time 1.279 (1.279)----Cont. Loss 0.2485 (0.2485)----Adv. Loss 6.2660 (6.2660)----Disc. Loss 0.0083 (0.0083)\n",
            "Epoch: [44][0/188]----Batch Time 1.294 (1.294)----Data Time 1.110 (1.110)----Cont. Loss 0.1303 (0.1303)----Adv. Loss 4.6887 (4.6887)----Disc. Loss 0.0141 (0.0141)\n",
            "Epoch: [45][0/188]----Batch Time 2.305 (2.305)----Data Time 2.115 (2.115)----Cont. Loss 0.3857 (0.3857)----Adv. Loss 4.9185 (4.9185)----Disc. Loss 0.0142 (0.0142)\n",
            "Epoch: [46][0/188]----Batch Time 1.766 (1.766)----Data Time 1.577 (1.577)----Cont. Loss 0.2982 (0.2982)----Adv. Loss 4.2125 (4.2125)----Disc. Loss 0.0186 (0.0186)\n",
            "Epoch: [47][0/188]----Batch Time 1.440 (1.440)----Data Time 1.236 (1.236)----Cont. Loss 0.1828 (0.1828)----Adv. Loss 11.2672 (11.2672)----Disc. Loss 0.0000 (0.0000)\n",
            "Epoch: [48][0/188]----Batch Time 1.954 (1.954)----Data Time 1.735 (1.735)----Cont. Loss 0.1457 (0.1457)----Adv. Loss 7.0751 (7.0751)----Disc. Loss 0.0013 (0.0013)\n",
            "Epoch: [49][0/188]----Batch Time 2.652 (2.652)----Data Time 2.383 (2.383)----Cont. Loss 0.4794 (0.4794)----Adv. Loss 11.6968 (11.6968)----Disc. Loss 0.0067 (0.0067)\n",
            "Epoch: [50][0/188]----Batch Time 1.669 (1.669)----Data Time 1.383 (1.383)----Cont. Loss 0.3026 (0.3026)----Adv. Loss 10.2897 (10.2897)----Disc. Loss 0.0041 (0.0041)\n",
            "Epoch: [51][0/188]----Batch Time 1.632 (1.632)----Data Time 1.409 (1.409)----Cont. Loss 0.3726 (0.3726)----Adv. Loss 5.6828 (5.6828)----Disc. Loss 0.0956 (0.0956)\n",
            "Epoch: [52][0/188]----Batch Time 1.446 (1.446)----Data Time 1.217 (1.217)----Cont. Loss 0.2102 (0.2102)----Adv. Loss 9.4596 (9.4596)----Disc. Loss 0.0002 (0.0002)\n",
            "Epoch: [53][0/188]----Batch Time 1.636 (1.636)----Data Time 1.424 (1.424)----Cont. Loss 0.0956 (0.0956)----Adv. Loss 9.6332 (9.6332)----Disc. Loss 0.5641 (0.5641)\n",
            "Epoch: [54][0/188]----Batch Time 1.492 (1.492)----Data Time 1.297 (1.297)----Cont. Loss 0.5006 (0.5006)----Adv. Loss 7.7358 (7.7358)----Disc. Loss 0.0033 (0.0033)\n",
            "Epoch: [55][0/188]----Batch Time 1.663 (1.663)----Data Time 1.466 (1.466)----Cont. Loss 0.2561 (0.2561)----Adv. Loss 7.4946 (7.4946)----Disc. Loss 0.0008 (0.0008)\n",
            "Epoch: [56][0/188]----Batch Time 1.864 (1.864)----Data Time 1.634 (1.634)----Cont. Loss 0.6703 (0.6703)----Adv. Loss 2.4503 (2.4503)----Disc. Loss 0.1082 (0.1082)\n",
            "Epoch: [57][0/188]----Batch Time 1.795 (1.795)----Data Time 1.591 (1.591)----Cont. Loss 0.3723 (0.3723)----Adv. Loss 5.2916 (5.2916)----Disc. Loss 0.0053 (0.0053)\n",
            "Epoch: [58][0/188]----Batch Time 1.878 (1.878)----Data Time 1.672 (1.672)----Cont. Loss 0.3468 (0.3468)----Adv. Loss 2.3134 (2.3134)----Disc. Loss 0.1480 (0.1480)\n",
            "Epoch: [59][0/188]----Batch Time 2.020 (2.020)----Data Time 1.735 (1.735)----Cont. Loss 0.2664 (0.2664)----Adv. Loss 8.6985 (8.6985)----Disc. Loss 0.0003 (0.0003)\n",
            "Epoch: [60][0/188]----Batch Time 2.590 (2.590)----Data Time 2.255 (2.255)----Cont. Loss 0.2683 (0.2683)----Adv. Loss 8.9096 (8.9096)----Disc. Loss 0.0003 (0.0003)\n",
            "Epoch: [61][0/188]----Batch Time 1.945 (1.945)----Data Time 1.669 (1.669)----Cont. Loss 0.1402 (0.1402)----Adv. Loss 8.6388 (8.6388)----Disc. Loss 1.1766 (1.1766)\n"
          ]
        }
      ]
    },
    {
      "cell_type": "code",
      "source": [
        "!python eval.py"
      ],
      "metadata": {
        "colab": {
          "base_uri": "https://localhost:8080/"
        },
        "id": "OoRjrlxv1E-z",
        "outputId": "efada3cd-8a52-438f-e97f-a0e5246bee19"
      },
      "execution_count": null,
      "outputs": [
        {
          "output_type": "stream",
          "name": "stdout",
          "text": [
            "/usr/local/lib/python3.10/dist-packages/torch/serialization.py:1113: SourceChangeWarning: source code of class 'torch.nn.modules.container.Sequential' has changed. you can retrieve the original source code by accessing the object's source attribute or set `torch.nn.Module.dump_patches = True` and use the patch tool to revert the changes.\n",
            "  warnings.warn(msg, SourceChangeWarning)\n",
            "/usr/local/lib/python3.10/dist-packages/torch/serialization.py:1113: SourceChangeWarning: source code of class 'torch.nn.modules.conv.Conv2d' has changed. you can retrieve the original source code by accessing the object's source attribute or set `torch.nn.Module.dump_patches = True` and use the patch tool to revert the changes.\n",
            "  warnings.warn(msg, SourceChangeWarning)\n",
            "/usr/local/lib/python3.10/dist-packages/torch/serialization.py:1113: SourceChangeWarning: source code of class 'torch.nn.modules.activation.PReLU' has changed. you can retrieve the original source code by accessing the object's source attribute or set `torch.nn.Module.dump_patches = True` and use the patch tool to revert the changes.\n",
            "  warnings.warn(msg, SourceChangeWarning)\n",
            "/usr/local/lib/python3.10/dist-packages/torch/serialization.py:1113: SourceChangeWarning: source code of class 'torch.nn.modules.batchnorm.BatchNorm2d' has changed. you can retrieve the original source code by accessing the object's source attribute or set `torch.nn.Module.dump_patches = True` and use the patch tool to revert the changes.\n",
            "  warnings.warn(msg, SourceChangeWarning)\n",
            "/usr/local/lib/python3.10/dist-packages/torch/serialization.py:1113: SourceChangeWarning: source code of class 'torch.nn.modules.pixelshuffle.PixelShuffle' has changed. you can retrieve the original source code by accessing the object's source attribute or set `torch.nn.Module.dump_patches = True` and use the patch tool to revert the changes.\n",
            "  warnings.warn(msg, SourceChangeWarning)\n",
            "/usr/local/lib/python3.10/dist-packages/torch/serialization.py:1113: SourceChangeWarning: source code of class 'torch.nn.modules.activation.Tanh' has changed. you can retrieve the original source code by accessing the object's source attribute or set `torch.nn.Module.dump_patches = True` and use the patch tool to revert the changes.\n",
            "  warnings.warn(msg, SourceChangeWarning)\n",
            "/usr/local/lib/python3.10/dist-packages/torch/serialization.py:1113: SourceChangeWarning: source code of class 'torch.nn.modules.activation.LeakyReLU' has changed. you can retrieve the original source code by accessing the object's source attribute or set `torch.nn.Module.dump_patches = True` and use the patch tool to revert the changes.\n",
            "  warnings.warn(msg, SourceChangeWarning)\n",
            "/usr/local/lib/python3.10/dist-packages/torch/serialization.py:1113: SourceChangeWarning: source code of class 'torch.nn.modules.pooling.AdaptiveAvgPool2d' has changed. you can retrieve the original source code by accessing the object's source attribute or set `torch.nn.Module.dump_patches = True` and use the patch tool to revert the changes.\n",
            "  warnings.warn(msg, SourceChangeWarning)\n",
            "/usr/local/lib/python3.10/dist-packages/torch/serialization.py:1113: SourceChangeWarning: source code of class 'torch.nn.modules.linear.Linear' has changed. you can retrieve the original source code by accessing the object's source attribute or set `torch.nn.Module.dump_patches = True` and use the patch tool to revert the changes.\n",
            "  warnings.warn(msg, SourceChangeWarning)\n",
            "\n",
            "For Set5:\n",
            "\n",
            "/usr/local/lib/python3.10/dist-packages/torch/utils/data/dataloader.py:558: UserWarning: This DataLoader will create 4 worker processes in total. Our suggested max number of worker in current system is 2, which is smaller than what this DataLoader is going to create. Please be aware that excessive worker creation might get DataLoader running slow or even freeze, lower the worker number to avoid potential slowness/freeze if necessary.\n",
            "  warnings.warn(_create_warning_msg(\n",
            "PSNR - 29.719\n",
            "SSIM - 0.859\n",
            "\n",
            "For Set14:\n",
            "\n",
            "PSNR - 26.509\n",
            "SSIM - 0.729\n",
            "\n",
            "For BSDS100:\n",
            "\n",
            "PSNR - 25.531\n",
            "SSIM - 0.678\n",
            "\n",
            "\n"
          ]
        }
      ]
    },
    {
      "cell_type": "code",
      "source": [
        "!python eval.py"
      ],
      "metadata": {
        "colab": {
          "base_uri": "https://localhost:8080/"
        },
        "id": "Z7zONcoD8GDN",
        "outputId": "a6f2b625-9f43-44dd-8738-dd6002e8a070"
      },
      "execution_count": null,
      "outputs": [
        {
          "output_type": "stream",
          "name": "stdout",
          "text": [
            "/usr/local/lib/python3.10/dist-packages/torch/serialization.py:1113: SourceChangeWarning: source code of class 'torch.nn.modules.container.Sequential' has changed. you can retrieve the original source code by accessing the object's source attribute or set `torch.nn.Module.dump_patches = True` and use the patch tool to revert the changes.\n",
            "  warnings.warn(msg, SourceChangeWarning)\n",
            "/usr/local/lib/python3.10/dist-packages/torch/serialization.py:1113: SourceChangeWarning: source code of class 'torch.nn.modules.conv.Conv2d' has changed. you can retrieve the original source code by accessing the object's source attribute or set `torch.nn.Module.dump_patches = True` and use the patch tool to revert the changes.\n",
            "  warnings.warn(msg, SourceChangeWarning)\n",
            "/usr/local/lib/python3.10/dist-packages/torch/serialization.py:1113: SourceChangeWarning: source code of class 'torch.nn.modules.activation.PReLU' has changed. you can retrieve the original source code by accessing the object's source attribute or set `torch.nn.Module.dump_patches = True` and use the patch tool to revert the changes.\n",
            "  warnings.warn(msg, SourceChangeWarning)\n",
            "/usr/local/lib/python3.10/dist-packages/torch/serialization.py:1113: SourceChangeWarning: source code of class 'torch.nn.modules.batchnorm.BatchNorm2d' has changed. you can retrieve the original source code by accessing the object's source attribute or set `torch.nn.Module.dump_patches = True` and use the patch tool to revert the changes.\n",
            "  warnings.warn(msg, SourceChangeWarning)\n",
            "/usr/local/lib/python3.10/dist-packages/torch/serialization.py:1113: SourceChangeWarning: source code of class 'torch.nn.modules.pixelshuffle.PixelShuffle' has changed. you can retrieve the original source code by accessing the object's source attribute or set `torch.nn.Module.dump_patches = True` and use the patch tool to revert the changes.\n",
            "  warnings.warn(msg, SourceChangeWarning)\n",
            "/usr/local/lib/python3.10/dist-packages/torch/serialization.py:1113: SourceChangeWarning: source code of class 'torch.nn.modules.activation.Tanh' has changed. you can retrieve the original source code by accessing the object's source attribute or set `torch.nn.Module.dump_patches = True` and use the patch tool to revert the changes.\n",
            "  warnings.warn(msg, SourceChangeWarning)\n",
            "\n",
            "For Set5:\n",
            "\n",
            "/usr/local/lib/python3.10/dist-packages/torch/utils/data/dataloader.py:558: UserWarning: This DataLoader will create 4 worker processes in total. Our suggested max number of worker in current system is 2, which is smaller than what this DataLoader is going to create. Please be aware that excessive worker creation might get DataLoader running slow or even freeze, lower the worker number to avoid potential slowness/freeze if necessary.\n",
            "  warnings.warn(_create_warning_msg(\n",
            "PSNR - 31.927\n",
            "SSIM - 0.902\n",
            "\n",
            "For Set14:\n",
            "\n",
            "PSNR - 28.588\n",
            "SSIM - 0.799\n",
            "\n",
            "For BSDS100:\n",
            "\n",
            "PSNR - 27.587\n",
            "SSIM - 0.756\n",
            "\n",
            "\n"
          ]
        }
      ]
    },
    {
      "cell_type": "code",
      "source": [
        "!python eval.py"
      ],
      "metadata": {
        "colab": {
          "base_uri": "https://localhost:8080/"
        },
        "id": "4FoJGradCUmZ",
        "outputId": "cdd73146-fba6-4cbf-f016-7724084f3994"
      },
      "execution_count": null,
      "outputs": [
        {
          "output_type": "stream",
          "name": "stdout",
          "text": [
            "/usr/local/lib/python3.10/dist-packages/torch/serialization.py:1113: SourceChangeWarning: source code of class 'torch.nn.modules.container.Sequential' has changed. you can retrieve the original source code by accessing the object's source attribute or set `torch.nn.Module.dump_patches = True` and use the patch tool to revert the changes.\n",
            "  warnings.warn(msg, SourceChangeWarning)\n",
            "/usr/local/lib/python3.10/dist-packages/torch/serialization.py:1113: SourceChangeWarning: source code of class 'torch.nn.modules.conv.Conv2d' has changed. you can retrieve the original source code by accessing the object's source attribute or set `torch.nn.Module.dump_patches = True` and use the patch tool to revert the changes.\n",
            "  warnings.warn(msg, SourceChangeWarning)\n",
            "/usr/local/lib/python3.10/dist-packages/torch/serialization.py:1113: SourceChangeWarning: source code of class 'torch.nn.modules.activation.PReLU' has changed. you can retrieve the original source code by accessing the object's source attribute or set `torch.nn.Module.dump_patches = True` and use the patch tool to revert the changes.\n",
            "  warnings.warn(msg, SourceChangeWarning)\n",
            "/usr/local/lib/python3.10/dist-packages/torch/serialization.py:1113: SourceChangeWarning: source code of class 'torch.nn.modules.batchnorm.BatchNorm2d' has changed. you can retrieve the original source code by accessing the object's source attribute or set `torch.nn.Module.dump_patches = True` and use the patch tool to revert the changes.\n",
            "  warnings.warn(msg, SourceChangeWarning)\n",
            "/usr/local/lib/python3.10/dist-packages/torch/serialization.py:1113: SourceChangeWarning: source code of class 'torch.nn.modules.pixelshuffle.PixelShuffle' has changed. you can retrieve the original source code by accessing the object's source attribute or set `torch.nn.Module.dump_patches = True` and use the patch tool to revert the changes.\n",
            "  warnings.warn(msg, SourceChangeWarning)\n",
            "/usr/local/lib/python3.10/dist-packages/torch/serialization.py:1113: SourceChangeWarning: source code of class 'torch.nn.modules.activation.Tanh' has changed. you can retrieve the original source code by accessing the object's source attribute or set `torch.nn.Module.dump_patches = True` and use the patch tool to revert the changes.\n",
            "  warnings.warn(msg, SourceChangeWarning)\n",
            "/usr/local/lib/python3.10/dist-packages/torch/serialization.py:1113: SourceChangeWarning: source code of class 'torch.nn.modules.activation.LeakyReLU' has changed. you can retrieve the original source code by accessing the object's source attribute or set `torch.nn.Module.dump_patches = True` and use the patch tool to revert the changes.\n",
            "  warnings.warn(msg, SourceChangeWarning)\n",
            "/usr/local/lib/python3.10/dist-packages/torch/serialization.py:1113: SourceChangeWarning: source code of class 'torch.nn.modules.pooling.AdaptiveAvgPool2d' has changed. you can retrieve the original source code by accessing the object's source attribute or set `torch.nn.Module.dump_patches = True` and use the patch tool to revert the changes.\n",
            "  warnings.warn(msg, SourceChangeWarning)\n",
            "/usr/local/lib/python3.10/dist-packages/torch/serialization.py:1113: SourceChangeWarning: source code of class 'torch.nn.modules.linear.Linear' has changed. you can retrieve the original source code by accessing the object's source attribute or set `torch.nn.Module.dump_patches = True` and use the patch tool to revert the changes.\n",
            "  warnings.warn(msg, SourceChangeWarning)\n",
            "\n",
            "For Set5:\n",
            "\n",
            "/usr/local/lib/python3.10/dist-packages/torch/utils/data/dataloader.py:558: UserWarning: This DataLoader will create 4 worker processes in total. Our suggested max number of worker in current system is 2, which is smaller than what this DataLoader is going to create. Please be aware that excessive worker creation might get DataLoader running slow or even freeze, lower the worker number to avoid potential slowness/freeze if necessary.\n",
            "  warnings.warn(_create_warning_msg(\n",
            "PSNR - 29.719\n",
            "SSIM - 0.859\n",
            "\n",
            "For Set14:\n",
            "\n",
            "PSNR - 26.509\n",
            "SSIM - 0.729\n",
            "\n",
            "For BSDS100:\n",
            "\n",
            "PSNR - 25.531\n",
            "SSIM - 0.678\n",
            "\n",
            "\n"
          ]
        }
      ]
    },
    {
      "cell_type": "code",
      "source": [
        "!python super_resolve.py"
      ],
      "metadata": {
        "colab": {
          "base_uri": "https://localhost:8080/"
        },
        "id": "Itv9l51DCoxf",
        "outputId": "8598607f-8fb2-45cb-bdf6-83047a41ef0e"
      },
      "execution_count": null,
      "outputs": [
        {
          "output_type": "stream",
          "name": "stdout",
          "text": [
            "/usr/local/lib/python3.10/dist-packages/torch/serialization.py:1113: SourceChangeWarning: source code of class 'torch.nn.modules.container.Sequential' has changed. you can retrieve the original source code by accessing the object's source attribute or set `torch.nn.Module.dump_patches = True` and use the patch tool to revert the changes.\n",
            "  warnings.warn(msg, SourceChangeWarning)\n",
            "/usr/local/lib/python3.10/dist-packages/torch/serialization.py:1113: SourceChangeWarning: source code of class 'torch.nn.modules.conv.Conv2d' has changed. you can retrieve the original source code by accessing the object's source attribute or set `torch.nn.Module.dump_patches = True` and use the patch tool to revert the changes.\n",
            "  warnings.warn(msg, SourceChangeWarning)\n",
            "/usr/local/lib/python3.10/dist-packages/torch/serialization.py:1113: SourceChangeWarning: source code of class 'torch.nn.modules.activation.PReLU' has changed. you can retrieve the original source code by accessing the object's source attribute or set `torch.nn.Module.dump_patches = True` and use the patch tool to revert the changes.\n",
            "  warnings.warn(msg, SourceChangeWarning)\n",
            "/usr/local/lib/python3.10/dist-packages/torch/serialization.py:1113: SourceChangeWarning: source code of class 'torch.nn.modules.batchnorm.BatchNorm2d' has changed. you can retrieve the original source code by accessing the object's source attribute or set `torch.nn.Module.dump_patches = True` and use the patch tool to revert the changes.\n",
            "  warnings.warn(msg, SourceChangeWarning)\n",
            "/usr/local/lib/python3.10/dist-packages/torch/serialization.py:1113: SourceChangeWarning: source code of class 'torch.nn.modules.pixelshuffle.PixelShuffle' has changed. you can retrieve the original source code by accessing the object's source attribute or set `torch.nn.Module.dump_patches = True` and use the patch tool to revert the changes.\n",
            "  warnings.warn(msg, SourceChangeWarning)\n",
            "/usr/local/lib/python3.10/dist-packages/torch/serialization.py:1113: SourceChangeWarning: source code of class 'torch.nn.modules.activation.Tanh' has changed. you can retrieve the original source code by accessing the object's source attribute or set `torch.nn.Module.dump_patches = True` and use the patch tool to revert the changes.\n",
            "  warnings.warn(msg, SourceChangeWarning)\n",
            "/usr/local/lib/python3.10/dist-packages/torch/serialization.py:1113: SourceChangeWarning: source code of class 'torch.nn.modules.activation.LeakyReLU' has changed. you can retrieve the original source code by accessing the object's source attribute or set `torch.nn.Module.dump_patches = True` and use the patch tool to revert the changes.\n",
            "  warnings.warn(msg, SourceChangeWarning)\n",
            "/usr/local/lib/python3.10/dist-packages/torch/serialization.py:1113: SourceChangeWarning: source code of class 'torch.nn.modules.pooling.AdaptiveAvgPool2d' has changed. you can retrieve the original source code by accessing the object's source attribute or set `torch.nn.Module.dump_patches = True` and use the patch tool to revert the changes.\n",
            "  warnings.warn(msg, SourceChangeWarning)\n",
            "/usr/local/lib/python3.10/dist-packages/torch/serialization.py:1113: SourceChangeWarning: source code of class 'torch.nn.modules.linear.Linear' has changed. you can retrieve the original source code by accessing the object's source attribute or set `torch.nn.Module.dump_patches = True` and use the patch tool to revert the changes.\n",
            "  warnings.warn(msg, SourceChangeWarning)\n",
            "Defaulting to a terrible font. To use a font of your choice, include the link to its TTF file in the function.\n",
            "/content/super_resolve.py:79: DeprecationWarning: getsize is deprecated and will be removed in Pillow 10 (2023-07-01). Use getbbox or getlength instead.\n",
            "  text_size = font.getsize(\"Bicubic\")\n",
            "/content/super_resolve.py:86: DeprecationWarning: getsize is deprecated and will be removed in Pillow 10 (2023-07-01). Use getbbox or getlength instead.\n",
            "  text_size = font.getsize(\"SRResNet\")\n",
            "/content/super_resolve.py:93: DeprecationWarning: getsize is deprecated and will be removed in Pillow 10 (2023-07-01). Use getbbox or getlength instead.\n",
            "  text_size = font.getsize(\"SRGAN\")\n",
            "/content/super_resolve.py:100: DeprecationWarning: getsize is deprecated and will be removed in Pillow 10 (2023-07-01). Use getbbox or getlength instead.\n",
            "  text_size = font.getsize(\"Original HR\")\n",
            "Defaulting to a terrible font. To use a font of your choice, include the link to its TTF file in the function.\n",
            "Defaulting to a terrible font. To use a font of your choice, include the link to its TTF file in the function.\n",
            "Defaulting to a terrible font. To use a font of your choice, include the link to its TTF file in the function.\n",
            "Defaulting to a terrible font. To use a font of your choice, include the link to its TTF file in the function.\n",
            "Defaulting to a terrible font. To use a font of your choice, include the link to its TTF file in the function.\n",
            "Defaulting to a terrible font. To use a font of your choice, include the link to its TTF file in the function.\n",
            "Defaulting to a terrible font. To use a font of your choice, include the link to its TTF file in the function.\n",
            "Defaulting to a terrible font. To use a font of your choice, include the link to its TTF file in the function.\n",
            "Defaulting to a terrible font. To use a font of your choice, include the link to its TTF file in the function.\n",
            "Defaulting to a terrible font. To use a font of your choice, include the link to its TTF file in the function.\n",
            "Defaulting to a terrible font. To use a font of your choice, include the link to its TTF file in the function.\n",
            "Defaulting to a terrible font. To use a font of your choice, include the link to its TTF file in the function.\n",
            "Defaulting to a terrible font. To use a font of your choice, include the link to its TTF file in the function.\n"
          ]
        }
      ]
    },
    {
      "cell_type": "code",
      "source": [],
      "metadata": {
        "id": "jrvXfqqiDF-3"
      },
      "execution_count": null,
      "outputs": []
    }
  ]
}